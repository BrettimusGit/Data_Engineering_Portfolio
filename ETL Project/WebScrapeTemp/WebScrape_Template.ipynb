{
 "cells": [
  {
   "cell_type": "code",
   "execution_count": null,
   "metadata": {},
   "outputs": [],
   "source": [
    "from bs4 import BeautifulSoup as bs\n",
    "import requests\n",
    "import pandas as pd"
   ]
  },
  {
   "cell_type": "markdown",
   "metadata": {},
   "source": [
    "## Optional Web-Scraping Imports"
   ]
  },
  {
   "cell_type": "code",
   "execution_count": 2,
   "metadata": {},
   "outputs": [],
   "source": [
    "# from splinter import Browser\n",
    "# from webdriver_manager.chrome import ChromeDriverManager"
   ]
  },
  {
   "cell_type": "code",
   "execution_count": 3,
   "metadata": {},
   "outputs": [
    {
     "name": "stderr",
     "output_type": "stream",
     "text": [
      "[WDM] - Current google-chrome version is 87.0.4280\n",
      "[WDM] - Get LATEST driver version for 87.0.4280\n"
     ]
    },
    {
     "name": "stdout",
     "output_type": "stream",
     "text": [
      " \n"
     ]
    },
    {
     "name": "stderr",
     "output_type": "stream",
     "text": [
      "[WDM] - Driver [C:\\Users\\kheat\\.wdm\\drivers\\chromedriver\\win32\\87.0.4280.88\\chromedriver.exe] found in cache\n"
     ]
    },
    {
     "ename": "NameError",
     "evalue": "name 'url' is not defined",
     "output_type": "error",
     "traceback": [
      "\u001b[1;31m---------------------------------------------------------------------------\u001b[0m",
      "\u001b[1;31mNameError\u001b[0m                                 Traceback (most recent call last)",
      "\u001b[1;32m<ipython-input-3-b12d2d4f8ac6>\u001b[0m in \u001b[0;36m<module>\u001b[1;34m\u001b[0m\n\u001b[0;32m      1\u001b[0m \u001b[0mexecutable_path\u001b[0m \u001b[1;33m=\u001b[0m \u001b[1;33m{\u001b[0m\u001b[1;34m'executable_path'\u001b[0m\u001b[1;33m:\u001b[0m \u001b[0mChromeDriverManager\u001b[0m\u001b[1;33m(\u001b[0m\u001b[1;33m)\u001b[0m\u001b[1;33m.\u001b[0m\u001b[0minstall\u001b[0m\u001b[1;33m(\u001b[0m\u001b[1;33m)\u001b[0m\u001b[1;33m}\u001b[0m\u001b[1;33m\u001b[0m\u001b[1;33m\u001b[0m\u001b[0m\n\u001b[0;32m      2\u001b[0m \u001b[0mbrowser\u001b[0m \u001b[1;33m=\u001b[0m \u001b[0mBrowser\u001b[0m\u001b[1;33m(\u001b[0m\u001b[1;34m'chrome'\u001b[0m\u001b[1;33m,\u001b[0m \u001b[1;33m**\u001b[0m\u001b[0mexecutable_path\u001b[0m\u001b[1;33m,\u001b[0m \u001b[0mheadless\u001b[0m\u001b[1;33m=\u001b[0m\u001b[1;32mFalse\u001b[0m\u001b[1;33m)\u001b[0m\u001b[1;33m\u001b[0m\u001b[1;33m\u001b[0m\u001b[0m\n\u001b[1;32m----> 3\u001b[1;33m \u001b[0mbrowser\u001b[0m\u001b[1;33m.\u001b[0m\u001b[0mvisit\u001b[0m\u001b[1;33m(\u001b[0m\u001b[0murl\u001b[0m\u001b[1;33m)\u001b[0m\u001b[1;33m\u001b[0m\u001b[1;33m\u001b[0m\u001b[0m\n\u001b[0m",
      "\u001b[1;31mNameError\u001b[0m: name 'url' is not defined"
     ]
    }
   ],
   "source": [
    "# executable_path = {'executable_path': ChromeDriverManager().install()}\n",
    "# browser = Browser('chrome', **executable_path, headless=False)"
   ]
  },
  {
   "cell_type": "code",
   "execution_count": 20,
   "metadata": {},
   "outputs": [
    {
     "name": "stderr",
     "output_type": "stream",
     "text": [
      "[WDM] - Current google-chrome version is 87.0.4280\n",
      "[WDM] - Get LATEST driver version for 87.0.4280\n",
      "[WDM] - Driver [C:\\Users\\kheat\\.wdm\\drivers\\chromedriver\\win32\\87.0.4280.88\\chromedriver.exe] found in cache\n"
     ]
    },
    {
     "name": "stdout",
     "output_type": "stream",
     "text": [
      " \n"
     ]
    }
   ],
   "source": [
    "executable_path = {'executable_path': ChromeDriverManager().install()}\n",
    "browser = Browser('chrome', **executable_path, headless=False)\n",
    "url = 'https://www.katespade.com/gifts/view-all/?ogmap=SEM|RTN|GOOG|STND|c|SITEWIDE|Main|text_ecomm_main_gg_br_us_en_core|text_ecomm_main_gg_br_us_en_core_x_kate_spade_exact|kate%20spade|7910021993|79468037742|US&k_clickid=_k_CjwKCAiA_eb-BRB2EiwAGBnXXpVY46E-Yv02xwxTHD7UtJ4CoV_CBv8hKEVyboq6idDAUE9cknMgCxoCmiAQAvD_BwE_k_&utm_source=google&utm_id=go_cmp-7910021993_adg-79468037742_ad-477396995480_aud-912728909270:kwd-15045470_dev-c_ext-_sig-CjwKCAiA_eb-BRB2EiwAGBnXXpVY46E-Yv02xwxTHD7UtJ4CoV_CBv8hKEVyboq6idDAUE9cknMgCxoCmiAQAvD_BwE&gclid=CjwKCAiA_eb-BRB2EiwAGBnXXpVY46E-Yv02xwxTHD7UtJ4CoV_CBv8hKEVyboq6idDAUE9cknMgCxoCmiAQAvD_BwE'\n",
    "browser.visit(url)\n",
    "\n",
    "dicts = [\n",
    "    {\"link\": 'https://www.katespade.com/new/', \"class\": 'jss627 jss239'},\n",
    "    {\"link\":'https://www.katespade.com/handbags/', \"class\": 'jss701 jss239'},\n",
    "    {\"link\":'https://www.katespade.com/shoes/', \"class\": 'jss701 jss239'},\n",
    "]\n",
    "\n",
    "for x in dicts:\n",
    "    browser.click_link_by_href(x[\"link\"])"
   ]
  },
  {
   "cell_type": "code",
   "execution_count": 23,
   "metadata": {},
   "outputs": [],
   "source": [
    "dicts = [\n",
    "    {\"link\": 'https://www.katespade.com:/new/', \"class\": 'jss627 jss239'},\n",
    "    {\"link\":'https://www.katespade.com:/handbags/', \"class\": 'jss701 jss239'},\n",
    "    {\"link\":'https://www.katespade.com:/shoes/', \"class\": 'jss701 jss239'},\n",
    "]\n",
    "\n",
    "for x in dicts:\n",
    "    browser.click_link_by_href(x[\"link\"])"
   ]
  },
  {
   "cell_type": "code",
   "execution_count": 5,
   "metadata": {},
   "outputs": [],
   "source": [
    "browser.visit(url)"
   ]
  },
  {
   "cell_type": "code",
   "execution_count": null,
   "metadata": {},
   "outputs": [],
   "source": [
    "response = requests.get('https://www.katespade.com:/new/')\n",
    "soup = bs(response.content, 'lxml')\n",
    "\n",
    "ks = soup.find(\"div\", class_='span4')\n",
    "data = ks.find_all(\"li\")\n",
    "data"
   ]
  },
  {
   "cell_type": "code",
   "execution_count": 18,
   "metadata": {},
   "outputs": [
    {
     "ename": "AttributeError",
     "evalue": "'NoneType' object has no attribute 'find_all'",
     "output_type": "error",
     "traceback": [
      "\u001b[1;31m---------------------------------------------------------------------------\u001b[0m",
      "\u001b[1;31mAttributeError\u001b[0m                            Traceback (most recent call last)",
      "\u001b[1;32m<ipython-input-18-dfa968f79f00>\u001b[0m in \u001b[0;36m<module>\u001b[1;34m\u001b[0m\n\u001b[0;32m     14\u001b[0m \u001b[1;33m\u001b[0m\u001b[0m\n\u001b[0;32m     15\u001b[0m     \u001b[0mks\u001b[0m \u001b[1;33m=\u001b[0m \u001b[0msoup\u001b[0m\u001b[1;33m.\u001b[0m\u001b[0mfind\u001b[0m\u001b[1;33m(\u001b[0m\u001b[1;34m\"ul\"\u001b[0m\u001b[1;33m,\u001b[0m \u001b[0mclass_\u001b[0m\u001b[1;33m=\u001b[0m\u001b[0mx\u001b[0m\u001b[1;33m[\u001b[0m\u001b[1;34m\"class\"\u001b[0m\u001b[1;33m]\u001b[0m\u001b[1;33m)\u001b[0m\u001b[1;33m\u001b[0m\u001b[1;33m\u001b[0m\u001b[0m\n\u001b[1;32m---> 16\u001b[1;33m     \u001b[0mdata\u001b[0m \u001b[1;33m=\u001b[0m \u001b[0mks\u001b[0m\u001b[1;33m.\u001b[0m\u001b[0mfind_all\u001b[0m\u001b[1;33m(\u001b[0m\u001b[1;34m\"li\"\u001b[0m\u001b[1;33m)\u001b[0m\u001b[1;33m\u001b[0m\u001b[1;33m\u001b[0m\u001b[0m\n\u001b[0m\u001b[0;32m     17\u001b[0m \u001b[1;33m\u001b[0m\u001b[0m\n\u001b[0;32m     18\u001b[0m     \u001b[1;32mfor\u001b[0m \u001b[0mitem\u001b[0m \u001b[1;32min\u001b[0m \u001b[0mdata\u001b[0m\u001b[1;33m:\u001b[0m\u001b[1;33m\u001b[0m\u001b[1;33m\u001b[0m\u001b[0m\n",
      "\u001b[1;31mAttributeError\u001b[0m: 'NoneType' object has no attribute 'find_all'"
     ]
    }
   ],
   "source": [
    "dicts = [\n",
    "    {\"link\": 'https://www.katespade.com:/new/', \"class\": 'jss627 jss239'},\n",
    "    {\"link\":'https://www.katespade.com:/handbags/', \"class\": 'jss701 jss239'},\n",
    "    {\"link\":'https://www.katespade.com:/shoes/', \"class\": 'jss701 jss239'},\n",
    "]\n",
    "\n",
    "# descriptions = []\n",
    "# prices = []\n",
    "\n",
    "# for x in dicts:\n",
    "#     browser.click_link_by_href(x[\"link\"])\n",
    "#     response = requests.get(x[\"link\"])\n",
    "#     soup = bs(response.content, 'lxml')\n",
    "    \n",
    "#     ks = soup.find(\"ul\", class_=x[\"class\"])\n",
    "#     data = ks.find_all(\"li\")\n",
    "\n",
    "#     for item in data:\n",
    "#         description = item.find(\"h6\").text.strip()\n",
    "#         price = item.find(\"span\").text.strip()\n",
    "\n",
    "#         descriptions.append(description)\n",
    "#         prices.append(price)\n",
    "\n",
    "#         df = pd.DataFrame()\n",
    "#         df[\"descriptions\"] = descriptions\n",
    "#         df[\"price\"] = prices\n",
    "        \n",
    "\n",
    "# df"
   ]
  },
  {
   "cell_type": "code",
   "execution_count": null,
   "metadata": {},
   "outputs": [],
   "source": [
    "for x in dicts:\n",
    "    print(x[\"class\"])"
   ]
  },
  {
   "cell_type": "code",
   "execution_count": null,
   "metadata": {},
   "outputs": [],
   "source": [
    "link_found = browser.find_by_css('.jss101').links\n",
    "\n",
    "link_found.browser.click_link_by_partial_href('https://www.katespade.com/')"
   ]
  },
  {
   "cell_type": "code",
   "execution_count": null,
   "metadata": {},
   "outputs": [],
   "source": [
    "linkList = [{'https://www.katespade.com:/new/': 'jss518 jss239'},{'https://www.katespade.com:/handbags/': 'jss518 jss239'},\n",
    "            {'https://www.katespade.com:/shoes/': 'jss518 jss239'}]\n",
    "\n",
    "linkList[0]"
   ]
  },
  {
   "cell_type": "code",
   "execution_count": null,
   "metadata": {},
   "outputs": [],
   "source": [
    ">>> dicts = [\n",
    "...     { \"name\": \"Tom\", \"age\": 10 },\n",
    "...     { \"name\": \"Mark\", \"age\": 5 },\n",
    "...     { \"name\": \"Pam\", \"age\": 7 },\n",
    "...     { \"name\": \"Dick\", \"age\": 12 }\n",
    "... ]"
   ]
  },
  {
   "cell_type": "code",
   "execution_count": null,
   "metadata": {},
   "outputs": [],
   "source": [
    "dicts = [\n",
    "    {\"link\": 'https://www.katespade.com:/new/', \"class\": 'jss518 jss239'},\n",
    "    {\"link\":'https://www.katespade.com:/handbags/', \"class\": 'jss518 jss239'},\n",
    "    {\"link\":'https://www.katespade.com:/shoes/', \"class\": 'jss518 jss239'},\n",
    "]\n",
    "\n",
    "\n",
    "for x in dicts:\n",
    "    print(x[\"link\"])"
   ]
  },
  {
   "cell_type": "code",
   "execution_count": null,
   "metadata": {},
   "outputs": [],
   "source": [
    "myList = [\n",
    "\t{\n",
    "\t\t'foo':12,\n",
    "\t\t'bar':14\n",
    "\t},\n",
    "\t{\n",
    "\t\t'moo':52,\n",
    "\t\t'car':641\n",
    "\t},\n",
    "\t{\n",
    "\t\t'doo':6,\n",
    "\t\t'tar':84\n",
    "\t}\n",
    "]\n",
    "\n",
    "print(myList[0])\n",
    "print(myList[0]['bar'])\n",
    "\n",
    "print(myList[1])\n",
    "print(myList[1]['moo'])\n",
    "\n",
    "print(myList[2])\n",
    "print(myList[2]['doo'])"
   ]
  },
  {
   "cell_type": "code",
   "execution_count": null,
   "metadata": {},
   "outputs": [],
   "source": []
  },
  {
   "cell_type": "code",
   "execution_count": null,
   "metadata": {},
   "outputs": [],
   "source": [
    "url = 'https://www.katespade.com/gifts/view-all/?ogmap=SEM|RTN|GOOG|STND|c|SITEWIDE|Main|text_ecomm_main_gg_br_us_en_core|text_ecomm_main_gg_br_us_en_core_x_kate_spade_exact|kate%20spade|7910021993|79468037742|US&k_clickid=_k_CjwKCAiA_eb-BRB2EiwAGBnXXpVY46E-Yv02xwxTHD7UtJ4CoV_CBv8hKEVyboq6idDAUE9cknMgCxoCmiAQAvD_BwE_k_&utm_source=google&utm_id=go_cmp-7910021993_adg-79468037742_ad-477396995480_aud-912728909270:kwd-15045470_dev-c_ext-_sig-CjwKCAiA_eb-BRB2EiwAGBnXXpVY46E-Yv02xwxTHD7UtJ4CoV_CBv8hKEVyboq6idDAUE9cknMgCxoCmiAQAvD_BwE&gclid=CjwKCAiA_eb-BRB2EiwAGBnXXpVY46E-Yv02xwxTHD7UtJ4CoV_CBv8hKEVyboq6idDAUE9cknMgCxoCmiAQAvD_BwE'\n",
    "response = requests.get(url)\n",
    "response.status_code"
   ]
  },
  {
   "cell_type": "code",
   "execution_count": null,
   "metadata": {},
   "outputs": [],
   "source": [
    "soup = bs(response.content, 'lxml')"
   ]
  },
  {
   "cell_type": "markdown",
   "metadata": {},
   "source": [
    "## Loop for Scraping"
   ]
  },
  {
   "cell_type": "code",
   "execution_count": null,
   "metadata": {},
   "outputs": [],
   "source": [
    "ks = soup.find(\"ul\")\n",
    "data = ks.find_all(\"li\")\n",
    " \n",
    "descriptions = []\n",
    "prices = []\n",
    "\n",
    "for item in data:\n",
    "    description = item.find(\"h6\").text.strip()\n",
    "    price = item.find(\"span\").text.strip()\n",
    "    \n",
    "    descriptions.append(description)\n",
    "    prices.append(price)\n",
    "    \n",
    "    df = pd.DataFrame()\n",
    "    df[\"descriptions\"] = descriptions\n",
    "    df[\"price\"] = prices\n",
    "    \n",
    "df.head()"
   ]
  },
  {
   "cell_type": "code",
   "execution_count": null,
   "metadata": {},
   "outputs": [],
   "source": []
  },
  {
   "cell_type": "code",
   "execution_count": null,
   "metadata": {},
   "outputs": [],
   "source": []
  },
  {
   "cell_type": "code",
   "execution_count": null,
   "metadata": {},
   "outputs": [],
   "source": []
  },
  {
   "cell_type": "code",
   "execution_count": null,
   "metadata": {},
   "outputs": [],
   "source": []
  }
 ],
 "metadata": {
  "kernelspec": {
   "display_name": "Python 3",
   "language": "python",
   "name": "python3"
  },
  "language_info": {
   "codemirror_mode": {
    "name": "ipython",
    "version": 3
   },
   "file_extension": ".py",
   "mimetype": "text/x-python",
   "name": "python",
   "nbconvert_exporter": "python",
   "pygments_lexer": "ipython3",
   "version": "3.8.3"
  }
 },
 "nbformat": 4,
 "nbformat_minor": 4
}
