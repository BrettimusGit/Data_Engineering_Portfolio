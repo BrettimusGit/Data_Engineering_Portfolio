{
 "cells": [
  {
   "cell_type": "code",
   "execution_count": 19,
   "metadata": {},
   "outputs": [],
   "source": [
    "from bs4 import BeautifulSoup as bs\n",
    "import requests\n",
    "import pymongo\n",
    "import json\n",
    "import pandas as pd"
   ]
  },
  {
   "cell_type": "code",
   "execution_count": 3,
   "metadata": {},
   "outputs": [
    {
     "data": {
      "text/plain": [
       "200"
      ]
     },
     "execution_count": 3,
     "metadata": {},
     "output_type": "execute_result"
    }
   ],
   "source": [
    "url = 'https://www.forbes.com'\n",
    "response = requests.get(url)\n",
    "response.status_code"
   ]
  },
  {
   "cell_type": "code",
   "execution_count": 18,
   "metadata": {},
   "outputs": [
    {
     "name": "stdout",
     "output_type": "stream",
     "text": [
      "<div class=\"news-title\">\n",
      "  \n",
      "    \n",
      "      In stirring speech, Pete Buttigieg makes history again for LGBTQ Americans as first gay cabinet nominee\n",
      "      </div>\n",
      "<div class=\"news-title\">\n",
      "  \n",
      "    \n",
      "      In stirring speech, Pete Buttigieg makes history again for LGBTQ Americans as first gay cabinet nominee\n",
      "      </div>\n",
      "<div class=\"news-title\">\n",
      "  \n",
      "    \n",
      "      In stirring speech, Pete Buttigieg makes history again for LGBTQ Americans as first gay cabinet nominee\n",
      "      </div>\n",
      "<div class=\"news-title\">\n",
      "  \n",
      "    \n",
      "      In stirring speech, Pete Buttigieg makes history again for LGBTQ Americans as first gay cabinet nominee\n",
      "      </div>\n",
      "<div class=\"news-title\">\n",
      "  \n",
      "    \n",
      "      In stirring speech, Pete Buttigieg makes history again for LGBTQ Americans as first gay cabinet nominee\n",
      "      </div>\n",
      "<div class=\"news-title\">\n",
      "  \n",
      "    \n",
      "      In stirring speech, Pete Buttigieg makes history again for LGBTQ Americans as first gay cabinet nominee\n",
      "      </div>\n",
      "<div class=\"news-title\">\n",
      "  \n",
      "    \n",
      "      In stirring speech, Pete Buttigieg makes history again for LGBTQ Americans as first gay cabinet nominee\n",
      "      </div>\n",
      "<div class=\"news-title\">\n",
      "  \n",
      "    \n",
      "      In stirring speech, Pete Buttigieg makes history again for LGBTQ Americans as first gay cabinet nominee\n",
      "      </div>\n",
      "<div class=\"news-title\">\n",
      "  \n",
      "    \n",
      "      In stirring speech, Pete Buttigieg makes history again for LGBTQ Americans as first gay cabinet nominee\n",
      "      </div>\n",
      "<div class=\"news-title\">\n",
      "  \n",
      "    \n",
      "      In stirring speech, Pete Buttigieg makes history again for LGBTQ Americans as first gay cabinet nominee\n",
      "      </div>\n",
      "<div class=\"news-title\">\n",
      "  \n",
      "    \n",
      "      In stirring speech, Pete Buttigieg makes history again for LGBTQ Americans as first gay cabinet nominee\n",
      "      </div>\n",
      "<div class=\"news-title\">\n",
      "  \n",
      "    \n",
      "      In stirring speech, Pete Buttigieg makes history again for LGBTQ Americans as first gay cabinet nominee\n",
      "      </div>\n",
      "<div class=\"news-title\">\n",
      "  \n",
      "    \n",
      "      In stirring speech, Pete Buttigieg makes history again for LGBTQ Americans as first gay cabinet nominee\n",
      "      </div>\n"
     ]
    }
   ],
   "source": [
    "soup = bs(response.content, 'lxml')\n",
    "\n",
    "ks = soup.find_all(\"div\", class_='view-content')\n",
    "for item in ks:\n",
    "    test = soup.find(\"div\", class_='news-title')\n",
    "    print(test)"
   ]
  }
 ],
 "metadata": {
  "kernelspec": {
   "display_name": "Python 3",
   "language": "python",
   "name": "python3"
  },
  "language_info": {
   "codemirror_mode": {
    "name": "ipython",
    "version": 3
   },
   "file_extension": ".py",
   "mimetype": "text/x-python",
   "name": "python",
   "nbconvert_exporter": "python",
   "pygments_lexer": "ipython3",
   "version": "3.8.3"
  }
 },
 "nbformat": 4,
 "nbformat_minor": 4
}
