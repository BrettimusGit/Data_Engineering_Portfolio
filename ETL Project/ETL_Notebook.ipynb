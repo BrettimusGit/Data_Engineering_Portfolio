{
 "cells": [
  {
   "cell_type": "markdown",
   "metadata": {},
   "source": [
    "# Team 3: Tim Schurmann, Clarence Robinson, Abby Herrup, & Brett Thompson"
   ]
  },
  {
   "cell_type": "markdown",
   "metadata": {},
   "source": [
    "# Dependencies"
   ]
  },
  {
   "cell_type": "code",
   "execution_count": 1,
   "metadata": {},
   "outputs": [],
   "source": [
    "from bs4 import BeautifulSoup as bs\n",
    "import requests\n",
    "import pandas as pd\n",
    "import json\n",
    "from sqlalchemy import create_engine, inspect\n",
    "import numpy as np\n",
    "import time\n",
    "import datetime\n",
    "from api_keys import api_key\n",
    "from config import *\n",
    "#Database connection definitions in config"
   ]
  },
  {
   "cell_type": "markdown",
   "metadata": {},
   "source": [
    "# Database Connection"
   ]
  },
  {
   "cell_type": "code",
   "execution_count": 3,
   "metadata": {},
   "outputs": [],
   "source": [
    "connection_string = f\"postgresql+psycopg2://{SQL_USERNAME}:{SQL_PASSWORD}@{SQL_IP}:{PORT}/{DATABASE}\"\n",
    "engine = create_engine(connection_string)"
   ]
  },
  {
   "cell_type": "markdown",
   "metadata": {},
   "source": [
    "### View Data in DB"
   ]
  },
  {
   "cell_type": "code",
   "execution_count": 4,
   "metadata": {},
   "outputs": [
    {
     "data": {
      "text/plain": [
       "['category', 'sources', 'headlines']"
      ]
     },
     "execution_count": 4,
     "metadata": {},
     "output_type": "execute_result"
    }
   ],
   "source": [
    "inspector=inspect(engine)\n",
    "inspector.get_table_names()"
   ]
  },
  {
   "cell_type": "code",
   "execution_count": 5,
   "metadata": {},
   "outputs": [
    {
     "name": "stdout",
     "output_type": "stream",
     "text": [
      "{'name': 'source_id', 'type': INTEGER(), 'nullable': False, 'default': \"nextval('sources_source_id_seq'::regclass)\", 'autoincrement': True, 'comment': None}\n",
      "{'name': 'source_name', 'type': VARCHAR(length=100), 'nullable': False, 'default': None, 'autoincrement': False, 'comment': None}\n",
      "{'name': 'last_updated', 'type': TIMESTAMP(), 'nullable': False, 'default': 'LOCALTIMESTAMP', 'autoincrement': False, 'comment': None}\n"
     ]
    }
   ],
   "source": [
    "for column in inspector.get_columns(\"sources\"):\n",
    "    print(column)"
   ]
  },
  {
   "cell_type": "markdown",
   "metadata": {},
   "source": [
    "# Data Scrape"
   ]
  },
  {
   "cell_type": "code",
   "execution_count": 6,
   "metadata": {},
   "outputs": [
    {
     "data": {
      "text/plain": [
       "200"
      ]
     },
     "execution_count": 6,
     "metadata": {},
     "output_type": "execute_result"
    }
   ],
   "source": [
    "# URL of page to be scraped\n",
    "url = 'https://www.allsides.com/unbiased-balanced-news'\n",
    "response = requests.get(url)\n",
    "response.status_code"
   ]
  },
  {
   "cell_type": "code",
   "execution_count": 7,
   "metadata": {},
   "outputs": [],
   "source": [
    "html = response.content\n",
    "soup = bs(html, \"lxml\")\n",
    "\n",
    "# Sources \n",
    "source = soup.find(\"div\", class_=\"row-fluid bias-trio-wrapper\")\n",
    "source_name = source.find_all(\"div\", class_=\"news-source\")\n",
    "\n",
    "# Articles\n",
    "article = soup.find(\"div\", class_=\"row-fluid bias-trio-wrapper\")\n",
    "article_name = article.find_all(\"div\", class_=\"news-title\")\n",
    "\n",
    "# Category\n",
    "category_name = soup.find_all(\"div\", class_=\"news-topic\")\n",
    "\n",
    "# Sub Header\n",
    "article_sub_header = soup.find_all(\"div\", class_=\"topic-description\")\n",
    "\n",
    "# Source url\n",
    "article_url = soup.find(\"div\", class_=\"row-fluid bias-trio-wrapper\")\n",
    "article_urls = article_url.find_all('div', class_=\"news-title\")"
   ]
  },
  {
   "cell_type": "code",
   "execution_count": 8,
   "metadata": {},
   "outputs": [
    {
     "name": "stdout",
     "output_type": "stream",
     "text": [
      "45\n",
      "45\n",
      "45\n",
      "45\n",
      "45\n"
     ]
    }
   ],
   "source": [
    "print(len(article_urls))\n",
    "print(len(article_sub_header))\n",
    "print(len(category_name))\n",
    "print(len(article_name))\n",
    "print(len(source_name))"
   ]
  },
  {
   "cell_type": "markdown",
   "metadata": {},
   "source": [
    "#### Append Scraped Data to Lists"
   ]
  },
  {
   "cell_type": "code",
   "execution_count": 9,
   "metadata": {},
   "outputs": [],
   "source": [
    "sources = []\n",
    "articles = []\n",
    "categories = []\n",
    "sub_headers = []\n",
    "urls = []\n",
    "\n",
    "for x in source_name:\n",
    "    source = x.text.strip()\n",
    "    sources.append(source)\n",
    "    \n",
    "for x in article_name:\n",
    "    article = x.text.strip()\n",
    "    articles.append(article)\n",
    "    \n",
    "for x in category_name:\n",
    "    category = x.text.strip()\n",
    "    categories.append(category)\n",
    "\n",
    "for x in article_sub_header:\n",
    "    sub_header = x.text.strip()\n",
    "    sub_headers.append(sub_header)\n",
    "\n",
    "for x in article_urls:\n",
    "    urls.append(x.a.get('href'))"
   ]
  },
  {
   "cell_type": "code",
   "execution_count": 10,
   "metadata": {},
   "outputs": [
    {
     "name": "stdout",
     "output_type": "stream",
     "text": [
      "45\n",
      "45\n",
      "45\n",
      "45\n",
      "45\n"
     ]
    }
   ],
   "source": [
    "print(len(sources))\n",
    "print(len(articles))\n",
    "print(len(categories))\n",
    "print(len(sub_headers))\n",
    "print(len(urls))"
   ]
  },
  {
   "cell_type": "markdown",
   "metadata": {},
   "source": [
    "# API Data Scrape"
   ]
  },
  {
   "cell_type": "code",
   "execution_count": 11,
   "metadata": {},
   "outputs": [],
   "source": [
    "search=[\"opinion\",\"technology\",\"politics\",\"economy\"]\n",
    "\n",
    "\n",
    "for news in search:\n",
    "    api_urls = f\"https://content.guardianapis.com/search?q={news}&show-fields=trailText,headline&api-key={api_key}\"\n",
    "    response = requests.get(api_urls)\n",
    "    data=response.json()\n",
    "    for x in range (0,10):\n",
    "        title=data[\"response\"][\"results\"][x][\"fields\"][\"headline\"]\n",
    "        webUrl=data[\"response\"][\"results\"][x][\"webUrl\"]\n",
    "        subheader=data[\"response\"][\"results\"][x][\"fields\"][\"trailText\"]\n",
    "        section=data[\"response\"][\"results\"][x][\"sectionName\"]\n",
    "        source_input=\"The Guardian\"\n",
    "        \n",
    "        \n",
    "        articles.append(title)\n",
    "        sub_headers.append(subheader)\n",
    "        urls.append(webUrl)\n",
    "        categories.append(section)\n",
    "        sources.append(source_input)"
   ]
  },
  {
   "cell_type": "code",
   "execution_count": 12,
   "metadata": {},
   "outputs": [
    {
     "name": "stdout",
     "output_type": "stream",
     "text": [
      "85\n",
      "85\n",
      "85\n",
      "85\n",
      "85\n"
     ]
    }
   ],
   "source": [
    "print(len(sources))\n",
    "print(len(articles))\n",
    "print(len(categories))\n",
    "print(len(sub_headers))\n",
    "print(len(urls))"
   ]
  },
  {
   "cell_type": "markdown",
   "metadata": {},
   "source": [
    "#### Unique Categories/Sources Data Scrape"
   ]
  },
  {
   "cell_type": "code",
   "execution_count": 13,
   "metadata": {},
   "outputs": [
    {
     "name": "stdout",
     "output_type": "stream",
     "text": [
      "40\n",
      "37\n"
     ]
    }
   ],
   "source": [
    "categories_unique = []\n",
    "for x in categories:\n",
    "    if x not in categories_unique:\n",
    "        categories_unique.append(x)\n",
    "print(len(categories_unique))\n",
    "\n",
    "sources_unique = []\n",
    "for x in sources:\n",
    "    if x not in sources_unique:\n",
    "        sources_unique.append(x)\n",
    "print(len(sources_unique))"
   ]
  },
  {
   "cell_type": "markdown",
   "metadata": {},
   "source": [
    "# DataFrame Creation"
   ]
  },
  {
   "cell_type": "markdown",
   "metadata": {},
   "source": [
    "### Sources DataFrame"
   ]
  },
  {
   "cell_type": "code",
   "execution_count": 14,
   "metadata": {},
   "outputs": [
    {
     "data": {
      "text/html": [
       "<div>\n",
       "<style scoped>\n",
       "    .dataframe tbody tr th:only-of-type {\n",
       "        vertical-align: middle;\n",
       "    }\n",
       "\n",
       "    .dataframe tbody tr th {\n",
       "        vertical-align: top;\n",
       "    }\n",
       "\n",
       "    .dataframe thead th {\n",
       "        text-align: right;\n",
       "    }\n",
       "</style>\n",
       "<table border=\"1\" class=\"dataframe\">\n",
       "  <thead>\n",
       "    <tr style=\"text-align: right;\">\n",
       "      <th></th>\n",
       "      <th>source_name</th>\n",
       "    </tr>\n",
       "  </thead>\n",
       "  <tbody>\n",
       "    <tr>\n",
       "      <th>32</th>\n",
       "      <td>David Harsanyi</td>\n",
       "    </tr>\n",
       "    <tr>\n",
       "      <th>33</th>\n",
       "      <td>Fox News (Online News)</td>\n",
       "    </tr>\n",
       "    <tr>\n",
       "      <th>34</th>\n",
       "      <td>National Review</td>\n",
       "    </tr>\n",
       "    <tr>\n",
       "      <th>35</th>\n",
       "      <td>Bizpac Review</td>\n",
       "    </tr>\n",
       "    <tr>\n",
       "      <th>36</th>\n",
       "      <td>Reason</td>\n",
       "    </tr>\n",
       "  </tbody>\n",
       "</table>\n",
       "</div>"
      ],
      "text/plain": [
       "               source_name\n",
       "32          David Harsanyi\n",
       "33  Fox News (Online News)\n",
       "34         National Review\n",
       "35           Bizpac Review\n",
       "36                  Reason"
      ]
     },
     "execution_count": 14,
     "metadata": {},
     "output_type": "execute_result"
    }
   ],
   "source": [
    "sources_df = pd.DataFrame()\n",
    "sources_df['source_name'] = sources_unique\n",
    "sources_df.tail()"
   ]
  },
  {
   "cell_type": "markdown",
   "metadata": {},
   "source": [
    "### Category DataFrame"
   ]
  },
  {
   "cell_type": "code",
   "execution_count": 15,
   "metadata": {},
   "outputs": [
    {
     "data": {
      "text/html": [
       "<div>\n",
       "<style scoped>\n",
       "    .dataframe tbody tr th:only-of-type {\n",
       "        vertical-align: middle;\n",
       "    }\n",
       "\n",
       "    .dataframe tbody tr th {\n",
       "        vertical-align: top;\n",
       "    }\n",
       "\n",
       "    .dataframe thead th {\n",
       "        text-align: right;\n",
       "    }\n",
       "</style>\n",
       "<table border=\"1\" class=\"dataframe\">\n",
       "  <thead>\n",
       "    <tr style=\"text-align: right;\">\n",
       "      <th></th>\n",
       "      <th>category_name</th>\n",
       "    </tr>\n",
       "  </thead>\n",
       "  <tbody>\n",
       "    <tr>\n",
       "      <th>35</th>\n",
       "      <td>Life and style</td>\n",
       "    </tr>\n",
       "    <tr>\n",
       "      <th>36</th>\n",
       "      <td>Environment</td>\n",
       "    </tr>\n",
       "    <tr>\n",
       "      <th>37</th>\n",
       "      <td>US news</td>\n",
       "    </tr>\n",
       "    <tr>\n",
       "      <th>38</th>\n",
       "      <td>News</td>\n",
       "    </tr>\n",
       "    <tr>\n",
       "      <th>39</th>\n",
       "      <td>Money</td>\n",
       "    </tr>\n",
       "  </tbody>\n",
       "</table>\n",
       "</div>"
      ],
      "text/plain": [
       "     category_name\n",
       "35  Life and style\n",
       "36     Environment\n",
       "37         US news\n",
       "38            News\n",
       "39           Money"
      ]
     },
     "execution_count": 15,
     "metadata": {},
     "output_type": "execute_result"
    }
   ],
   "source": [
    "category_df = pd.DataFrame()\n",
    "category_df['category_name'] = categories_unique\n",
    "category_df.tail()"
   ]
  },
  {
   "cell_type": "markdown",
   "metadata": {},
   "source": [
    "### API DataFrame"
   ]
  },
  {
   "cell_type": "code",
   "execution_count": 16,
   "metadata": {},
   "outputs": [],
   "source": [
    "# api_df = pd.DataFrame()\n",
    "# api_df[\"article_name\"]= article_name\n",
    "# api_df[\"article_sub_header\"] = article_sub_header\n",
    "# api_df[\"url\"] = url\n",
    "# api_df[\"category\"] = category\n",
    "# api_df[\"source\"] = api_source\n",
    "\n",
    "# api_df.head()"
   ]
  },
  {
   "cell_type": "markdown",
   "metadata": {},
   "source": [
    "### Headlines DataFrame"
   ]
  },
  {
   "cell_type": "code",
   "execution_count": 17,
   "metadata": {},
   "outputs": [
    {
     "data": {
      "text/html": [
       "<div>\n",
       "<style scoped>\n",
       "    .dataframe tbody tr th:only-of-type {\n",
       "        vertical-align: middle;\n",
       "    }\n",
       "\n",
       "    .dataframe tbody tr th {\n",
       "        vertical-align: top;\n",
       "    }\n",
       "\n",
       "    .dataframe thead th {\n",
       "        text-align: right;\n",
       "    }\n",
       "</style>\n",
       "<table border=\"1\" class=\"dataframe\">\n",
       "  <thead>\n",
       "    <tr style=\"text-align: right;\">\n",
       "      <th></th>\n",
       "      <th>article_name</th>\n",
       "      <th>article_sub_header</th>\n",
       "      <th>source_name</th>\n",
       "      <th>category_name</th>\n",
       "      <th>url</th>\n",
       "    </tr>\n",
       "  </thead>\n",
       "  <tbody>\n",
       "    <tr>\n",
       "      <th>80</th>\n",
       "      <td>Why low inflation is a worrying sign for the U...</td>\n",
       "      <td>&lt;strong&gt;Analysis&lt;/strong&gt;: lower prices may ha...</td>\n",
       "      <td>The Guardian</td>\n",
       "      <td>Business</td>\n",
       "      <td>https://www.theguardian.com/business/2020/dec/...</td>\n",
       "    </tr>\n",
       "    <tr>\n",
       "      <th>81</th>\n",
       "      <td>Secondhand no longer second-best for UK's 'cir...</td>\n",
       "      <td>During lockdown, the thoughts of many have tur...</td>\n",
       "      <td>The Guardian</td>\n",
       "      <td>Money</td>\n",
       "      <td>https://www.theguardian.com/money/2020/nov/22/...</td>\n",
       "    </tr>\n",
       "    <tr>\n",
       "      <th>82</th>\n",
       "      <td>Covid-hit Merseyside economy 'may collapse wit...</td>\n",
       "      <td>Local leaders say financial support needed whe...</td>\n",
       "      <td>The Guardian</td>\n",
       "      <td>World news</td>\n",
       "      <td>https://www.theguardian.com/world/2020/sep/30/...</td>\n",
       "    </tr>\n",
       "    <tr>\n",
       "      <th>83</th>\n",
       "      <td>How the Great Frost of 1709 left England’s eco...</td>\n",
       "      <td>Three hundred years ago it was a three-month c...</td>\n",
       "      <td>The Guardian</td>\n",
       "      <td>News</td>\n",
       "      <td>https://www.theguardian.com/news/2020/dec/17/h...</td>\n",
       "    </tr>\n",
       "    <tr>\n",
       "      <th>84</th>\n",
       "      <td>Families ‘facing hardest period in five decade...</td>\n",
       "      <td>Household income will rise by just £220 in fiv...</td>\n",
       "      <td>The Guardian</td>\n",
       "      <td>Business</td>\n",
       "      <td>https://www.theguardian.com/business/2020/nov/...</td>\n",
       "    </tr>\n",
       "  </tbody>\n",
       "</table>\n",
       "</div>"
      ],
      "text/plain": [
       "                                         article_name  \\\n",
       "80  Why low inflation is a worrying sign for the U...   \n",
       "81  Secondhand no longer second-best for UK's 'cir...   \n",
       "82  Covid-hit Merseyside economy 'may collapse wit...   \n",
       "83  How the Great Frost of 1709 left England’s eco...   \n",
       "84  Families ‘facing hardest period in five decade...   \n",
       "\n",
       "                                   article_sub_header   source_name  \\\n",
       "80  <strong>Analysis</strong>: lower prices may ha...  The Guardian   \n",
       "81  During lockdown, the thoughts of many have tur...  The Guardian   \n",
       "82  Local leaders say financial support needed whe...  The Guardian   \n",
       "83  Three hundred years ago it was a three-month c...  The Guardian   \n",
       "84  Household income will rise by just £220 in fiv...  The Guardian   \n",
       "\n",
       "   category_name                                                url  \n",
       "80      Business  https://www.theguardian.com/business/2020/dec/...  \n",
       "81         Money  https://www.theguardian.com/money/2020/nov/22/...  \n",
       "82    World news  https://www.theguardian.com/world/2020/sep/30/...  \n",
       "83          News  https://www.theguardian.com/news/2020/dec/17/h...  \n",
       "84      Business  https://www.theguardian.com/business/2020/nov/...  "
      ]
     },
     "execution_count": 17,
     "metadata": {},
     "output_type": "execute_result"
    }
   ],
   "source": [
    "headlines_df = pd.DataFrame()\n",
    "\n",
    "headlines_df['article_name'] = articles\n",
    "headlines_df['article_sub_header'] = sub_headers\n",
    "headlines_df['source_name'] = sources\n",
    "headlines_df['category_name'] = categories\n",
    "headlines_df['url'] = urls\n",
    "\n",
    "headlines_df.tail()"
   ]
  },
  {
   "cell_type": "markdown",
   "metadata": {},
   "source": [
    "# Uploading to SQL DB"
   ]
  },
  {
   "cell_type": "markdown",
   "metadata": {},
   "source": [
    "### Sources Table"
   ]
  },
  {
   "cell_type": "code",
   "execution_count": 18,
   "metadata": {},
   "outputs": [],
   "source": [
    "conn = engine.connect()\n",
    "sources_df.to_sql(\"sources\", schema=\"public\", con=conn, if_exists=\"append\", index=False, method=\"multi\")\n",
    "conn.close()"
   ]
  },
  {
   "cell_type": "markdown",
   "metadata": {},
   "source": [
    "#### Save to df"
   ]
  },
  {
   "cell_type": "code",
   "execution_count": 19,
   "metadata": {},
   "outputs": [
    {
     "data": {
      "text/html": [
       "<div>\n",
       "<style scoped>\n",
       "    .dataframe tbody tr th:only-of-type {\n",
       "        vertical-align: middle;\n",
       "    }\n",
       "\n",
       "    .dataframe tbody tr th {\n",
       "        vertical-align: top;\n",
       "    }\n",
       "\n",
       "    .dataframe thead th {\n",
       "        text-align: right;\n",
       "    }\n",
       "</style>\n",
       "<table border=\"1\" class=\"dataframe\">\n",
       "  <thead>\n",
       "    <tr style=\"text-align: right;\">\n",
       "      <th></th>\n",
       "      <th>source_id</th>\n",
       "      <th>source_name</th>\n",
       "      <th>last_updated</th>\n",
       "    </tr>\n",
       "  </thead>\n",
       "  <tbody>\n",
       "    <tr>\n",
       "      <th>32</th>\n",
       "      <td>33</td>\n",
       "      <td>David Harsanyi</td>\n",
       "      <td>2020-12-22 01:33:45.433547</td>\n",
       "    </tr>\n",
       "    <tr>\n",
       "      <th>33</th>\n",
       "      <td>34</td>\n",
       "      <td>Fox News (Online News)</td>\n",
       "      <td>2020-12-22 01:33:45.433547</td>\n",
       "    </tr>\n",
       "    <tr>\n",
       "      <th>34</th>\n",
       "      <td>35</td>\n",
       "      <td>National Review</td>\n",
       "      <td>2020-12-22 01:33:45.433547</td>\n",
       "    </tr>\n",
       "    <tr>\n",
       "      <th>35</th>\n",
       "      <td>36</td>\n",
       "      <td>Bizpac Review</td>\n",
       "      <td>2020-12-22 01:33:45.433547</td>\n",
       "    </tr>\n",
       "    <tr>\n",
       "      <th>36</th>\n",
       "      <td>37</td>\n",
       "      <td>Reason</td>\n",
       "      <td>2020-12-22 01:33:45.433547</td>\n",
       "    </tr>\n",
       "  </tbody>\n",
       "</table>\n",
       "</div>"
      ],
      "text/plain": [
       "    source_id             source_name               last_updated\n",
       "32         33          David Harsanyi 2020-12-22 01:33:45.433547\n",
       "33         34  Fox News (Online News) 2020-12-22 01:33:45.433547\n",
       "34         35         National Review 2020-12-22 01:33:45.433547\n",
       "35         36           Bizpac Review 2020-12-22 01:33:45.433547\n",
       "36         37                  Reason 2020-12-22 01:33:45.433547"
      ]
     },
     "execution_count": 19,
     "metadata": {},
     "output_type": "execute_result"
    }
   ],
   "source": [
    "query = \"\"\"\n",
    "        SELECT\n",
    "            *\n",
    "        FROM\n",
    "            sources\n",
    "        \"\"\"\n",
    "\n",
    "conn = engine.connect()\n",
    "sql_sources_df = pd.read_sql(query, con=conn)\n",
    "conn.close()\n",
    "\n",
    "sql_sources_df.tail()"
   ]
  },
  {
   "cell_type": "markdown",
   "metadata": {},
   "source": [
    "### Category Table"
   ]
  },
  {
   "cell_type": "code",
   "execution_count": 20,
   "metadata": {},
   "outputs": [],
   "source": [
    "conn = engine.connect()\n",
    "category_df.to_sql(\"category\", schema=\"public\", con=conn, if_exists=\"append\", index=False, method=\"multi\")\n",
    "conn.close()"
   ]
  },
  {
   "cell_type": "markdown",
   "metadata": {},
   "source": [
    "#### Save to df"
   ]
  },
  {
   "cell_type": "code",
   "execution_count": 21,
   "metadata": {},
   "outputs": [
    {
     "data": {
      "text/html": [
       "<div>\n",
       "<style scoped>\n",
       "    .dataframe tbody tr th:only-of-type {\n",
       "        vertical-align: middle;\n",
       "    }\n",
       "\n",
       "    .dataframe tbody tr th {\n",
       "        vertical-align: top;\n",
       "    }\n",
       "\n",
       "    .dataframe thead th {\n",
       "        text-align: right;\n",
       "    }\n",
       "</style>\n",
       "<table border=\"1\" class=\"dataframe\">\n",
       "  <thead>\n",
       "    <tr style=\"text-align: right;\">\n",
       "      <th></th>\n",
       "      <th>category_id</th>\n",
       "      <th>category_name</th>\n",
       "      <th>last_updated</th>\n",
       "    </tr>\n",
       "  </thead>\n",
       "  <tbody>\n",
       "    <tr>\n",
       "      <th>35</th>\n",
       "      <td>36</td>\n",
       "      <td>Life and style</td>\n",
       "      <td>2020-12-22 01:33:45.701341</td>\n",
       "    </tr>\n",
       "    <tr>\n",
       "      <th>36</th>\n",
       "      <td>37</td>\n",
       "      <td>Environment</td>\n",
       "      <td>2020-12-22 01:33:45.701341</td>\n",
       "    </tr>\n",
       "    <tr>\n",
       "      <th>37</th>\n",
       "      <td>38</td>\n",
       "      <td>US news</td>\n",
       "      <td>2020-12-22 01:33:45.701341</td>\n",
       "    </tr>\n",
       "    <tr>\n",
       "      <th>38</th>\n",
       "      <td>39</td>\n",
       "      <td>News</td>\n",
       "      <td>2020-12-22 01:33:45.701341</td>\n",
       "    </tr>\n",
       "    <tr>\n",
       "      <th>39</th>\n",
       "      <td>40</td>\n",
       "      <td>Money</td>\n",
       "      <td>2020-12-22 01:33:45.701341</td>\n",
       "    </tr>\n",
       "  </tbody>\n",
       "</table>\n",
       "</div>"
      ],
      "text/plain": [
       "    category_id   category_name               last_updated\n",
       "35           36  Life and style 2020-12-22 01:33:45.701341\n",
       "36           37     Environment 2020-12-22 01:33:45.701341\n",
       "37           38         US news 2020-12-22 01:33:45.701341\n",
       "38           39            News 2020-12-22 01:33:45.701341\n",
       "39           40           Money 2020-12-22 01:33:45.701341"
      ]
     },
     "execution_count": 21,
     "metadata": {},
     "output_type": "execute_result"
    }
   ],
   "source": [
    "query = \"\"\"\n",
    "        SELECT\n",
    "            *\n",
    "        FROM\n",
    "            category\n",
    "        \"\"\"\n",
    "#Save to Df\n",
    "conn = engine.connect()\n",
    "sql_cat_df = pd.read_sql(query, con=conn)\n",
    "conn.close()\n",
    "\n",
    "sql_cat_df.tail()"
   ]
  },
  {
   "cell_type": "markdown",
   "metadata": {},
   "source": [
    "### Headlines Table"
   ]
  },
  {
   "cell_type": "code",
   "execution_count": 22,
   "metadata": {},
   "outputs": [],
   "source": [
    "source_ids = []\n",
    "category_ids = []\n",
    "\n",
    "for x in headlines_df.source_name:\n",
    "    source_ids.append(sql_sources_df.source_id.loc[sql_sources_df['source_name'] == x].values[0])\n",
    "    \n",
    "for x in headlines_df.category_name:\n",
    "    category_ids.append(sql_cat_df.category_id.loc[sql_cat_df['category_name'] == x].values[0])"
   ]
  },
  {
   "cell_type": "markdown",
   "metadata": {},
   "source": [
    "#### Save to df"
   ]
  },
  {
   "cell_type": "code",
   "execution_count": 23,
   "metadata": {},
   "outputs": [
    {
     "data": {
      "text/html": [
       "<div>\n",
       "<style scoped>\n",
       "    .dataframe tbody tr th:only-of-type {\n",
       "        vertical-align: middle;\n",
       "    }\n",
       "\n",
       "    .dataframe tbody tr th {\n",
       "        vertical-align: top;\n",
       "    }\n",
       "\n",
       "    .dataframe thead th {\n",
       "        text-align: right;\n",
       "    }\n",
       "</style>\n",
       "<table border=\"1\" class=\"dataframe\">\n",
       "  <thead>\n",
       "    <tr style=\"text-align: right;\">\n",
       "      <th></th>\n",
       "      <th>article_name</th>\n",
       "      <th>article_sub_header</th>\n",
       "      <th>source_id</th>\n",
       "      <th>category_id</th>\n",
       "      <th>url</th>\n",
       "    </tr>\n",
       "  </thead>\n",
       "  <tbody>\n",
       "    <tr>\n",
       "      <th>80</th>\n",
       "      <td>Why low inflation is a worrying sign for the U...</td>\n",
       "      <td>&lt;strong&gt;Analysis&lt;/strong&gt;: lower prices may ha...</td>\n",
       "      <td>12</td>\n",
       "      <td>7</td>\n",
       "      <td>https://www.theguardian.com/business/2020/dec/...</td>\n",
       "    </tr>\n",
       "    <tr>\n",
       "      <th>81</th>\n",
       "      <td>Secondhand no longer second-best for UK's 'cir...</td>\n",
       "      <td>During lockdown, the thoughts of many have tur...</td>\n",
       "      <td>12</td>\n",
       "      <td>40</td>\n",
       "      <td>https://www.theguardian.com/money/2020/nov/22/...</td>\n",
       "    </tr>\n",
       "    <tr>\n",
       "      <th>82</th>\n",
       "      <td>Covid-hit Merseyside economy 'may collapse wit...</td>\n",
       "      <td>Local leaders say financial support needed whe...</td>\n",
       "      <td>12</td>\n",
       "      <td>28</td>\n",
       "      <td>https://www.theguardian.com/world/2020/sep/30/...</td>\n",
       "    </tr>\n",
       "    <tr>\n",
       "      <th>83</th>\n",
       "      <td>How the Great Frost of 1709 left England’s eco...</td>\n",
       "      <td>Three hundred years ago it was a three-month c...</td>\n",
       "      <td>12</td>\n",
       "      <td>39</td>\n",
       "      <td>https://www.theguardian.com/news/2020/dec/17/h...</td>\n",
       "    </tr>\n",
       "    <tr>\n",
       "      <th>84</th>\n",
       "      <td>Families ‘facing hardest period in five decade...</td>\n",
       "      <td>Household income will rise by just £220 in fiv...</td>\n",
       "      <td>12</td>\n",
       "      <td>7</td>\n",
       "      <td>https://www.theguardian.com/business/2020/nov/...</td>\n",
       "    </tr>\n",
       "  </tbody>\n",
       "</table>\n",
       "</div>"
      ],
      "text/plain": [
       "                                         article_name  \\\n",
       "80  Why low inflation is a worrying sign for the U...   \n",
       "81  Secondhand no longer second-best for UK's 'cir...   \n",
       "82  Covid-hit Merseyside economy 'may collapse wit...   \n",
       "83  How the Great Frost of 1709 left England’s eco...   \n",
       "84  Families ‘facing hardest period in five decade...   \n",
       "\n",
       "                                   article_sub_header  source_id  category_id  \\\n",
       "80  <strong>Analysis</strong>: lower prices may ha...         12            7   \n",
       "81  During lockdown, the thoughts of many have tur...         12           40   \n",
       "82  Local leaders say financial support needed whe...         12           28   \n",
       "83  Three hundred years ago it was a three-month c...         12           39   \n",
       "84  Household income will rise by just £220 in fiv...         12            7   \n",
       "\n",
       "                                                  url  \n",
       "80  https://www.theguardian.com/business/2020/dec/...  \n",
       "81  https://www.theguardian.com/money/2020/nov/22/...  \n",
       "82  https://www.theguardian.com/world/2020/sep/30/...  \n",
       "83  https://www.theguardian.com/news/2020/dec/17/h...  \n",
       "84  https://www.theguardian.com/business/2020/nov/...  "
      ]
     },
     "execution_count": 23,
     "metadata": {},
     "output_type": "execute_result"
    }
   ],
   "source": [
    "sql_headlines_df = pd.DataFrame()\n",
    "\n",
    "sql_headlines_df['article_name'] = articles\n",
    "sql_headlines_df['article_sub_header'] = sub_headers\n",
    "sql_headlines_df['source_id'] = source_ids\n",
    "sql_headlines_df['category_id'] = category_ids\n",
    "sql_headlines_df['url'] = urls\n",
    "\n",
    "sql_headlines_df.tail()"
   ]
  },
  {
   "cell_type": "code",
   "execution_count": 24,
   "metadata": {},
   "outputs": [],
   "source": [
    "conn = engine.connect()\n",
    "sql_headlines_df.to_sql(\"headlines\", schema=\"public\", con=conn, if_exists=\"append\", index=False, method=\"multi\")\n",
    "conn.close()"
   ]
  },
  {
   "cell_type": "code",
   "execution_count": 25,
   "metadata": {},
   "outputs": [
    {
     "data": {
      "text/html": [
       "<div>\n",
       "<style scoped>\n",
       "    .dataframe tbody tr th:only-of-type {\n",
       "        vertical-align: middle;\n",
       "    }\n",
       "\n",
       "    .dataframe tbody tr th {\n",
       "        vertical-align: top;\n",
       "    }\n",
       "\n",
       "    .dataframe thead th {\n",
       "        text-align: right;\n",
       "    }\n",
       "</style>\n",
       "<table border=\"1\" class=\"dataframe\">\n",
       "  <thead>\n",
       "    <tr style=\"text-align: right;\">\n",
       "      <th></th>\n",
       "      <th>article_id</th>\n",
       "      <th>article_name</th>\n",
       "      <th>article_sub_header</th>\n",
       "      <th>source_id</th>\n",
       "      <th>category_id</th>\n",
       "      <th>url</th>\n",
       "      <th>last_updated</th>\n",
       "    </tr>\n",
       "  </thead>\n",
       "  <tbody>\n",
       "    <tr>\n",
       "      <th>80</th>\n",
       "      <td>81</td>\n",
       "      <td>Why low inflation is a worrying sign for the U...</td>\n",
       "      <td>&lt;strong&gt;Analysis&lt;/strong&gt;: lower prices may ha...</td>\n",
       "      <td>12</td>\n",
       "      <td>7</td>\n",
       "      <td>https://www.theguardian.com/business/2020/dec/...</td>\n",
       "      <td>2020-12-22 01:33:46.139543</td>\n",
       "    </tr>\n",
       "    <tr>\n",
       "      <th>81</th>\n",
       "      <td>82</td>\n",
       "      <td>Secondhand no longer second-best for UK's 'cir...</td>\n",
       "      <td>During lockdown, the thoughts of many have tur...</td>\n",
       "      <td>12</td>\n",
       "      <td>40</td>\n",
       "      <td>https://www.theguardian.com/money/2020/nov/22/...</td>\n",
       "      <td>2020-12-22 01:33:46.139543</td>\n",
       "    </tr>\n",
       "    <tr>\n",
       "      <th>82</th>\n",
       "      <td>83</td>\n",
       "      <td>Covid-hit Merseyside economy 'may collapse wit...</td>\n",
       "      <td>Local leaders say financial support needed whe...</td>\n",
       "      <td>12</td>\n",
       "      <td>28</td>\n",
       "      <td>https://www.theguardian.com/world/2020/sep/30/...</td>\n",
       "      <td>2020-12-22 01:33:46.139543</td>\n",
       "    </tr>\n",
       "    <tr>\n",
       "      <th>83</th>\n",
       "      <td>84</td>\n",
       "      <td>How the Great Frost of 1709 left England’s eco...</td>\n",
       "      <td>Three hundred years ago it was a three-month c...</td>\n",
       "      <td>12</td>\n",
       "      <td>39</td>\n",
       "      <td>https://www.theguardian.com/news/2020/dec/17/h...</td>\n",
       "      <td>2020-12-22 01:33:46.139543</td>\n",
       "    </tr>\n",
       "    <tr>\n",
       "      <th>84</th>\n",
       "      <td>85</td>\n",
       "      <td>Families ‘facing hardest period in five decade...</td>\n",
       "      <td>Household income will rise by just £220 in fiv...</td>\n",
       "      <td>12</td>\n",
       "      <td>7</td>\n",
       "      <td>https://www.theguardian.com/business/2020/nov/...</td>\n",
       "      <td>2020-12-22 01:33:46.139543</td>\n",
       "    </tr>\n",
       "  </tbody>\n",
       "</table>\n",
       "</div>"
      ],
      "text/plain": [
       "    article_id                                       article_name  \\\n",
       "80          81  Why low inflation is a worrying sign for the U...   \n",
       "81          82  Secondhand no longer second-best for UK's 'cir...   \n",
       "82          83  Covid-hit Merseyside economy 'may collapse wit...   \n",
       "83          84  How the Great Frost of 1709 left England’s eco...   \n",
       "84          85  Families ‘facing hardest period in five decade...   \n",
       "\n",
       "                                   article_sub_header  source_id  category_id  \\\n",
       "80  <strong>Analysis</strong>: lower prices may ha...         12            7   \n",
       "81  During lockdown, the thoughts of many have tur...         12           40   \n",
       "82  Local leaders say financial support needed whe...         12           28   \n",
       "83  Three hundred years ago it was a three-month c...         12           39   \n",
       "84  Household income will rise by just £220 in fiv...         12            7   \n",
       "\n",
       "                                                  url  \\\n",
       "80  https://www.theguardian.com/business/2020/dec/...   \n",
       "81  https://www.theguardian.com/money/2020/nov/22/...   \n",
       "82  https://www.theguardian.com/world/2020/sep/30/...   \n",
       "83  https://www.theguardian.com/news/2020/dec/17/h...   \n",
       "84  https://www.theguardian.com/business/2020/nov/...   \n",
       "\n",
       "                 last_updated  \n",
       "80 2020-12-22 01:33:46.139543  \n",
       "81 2020-12-22 01:33:46.139543  \n",
       "82 2020-12-22 01:33:46.139543  \n",
       "83 2020-12-22 01:33:46.139543  \n",
       "84 2020-12-22 01:33:46.139543  "
      ]
     },
     "execution_count": 25,
     "metadata": {},
     "output_type": "execute_result"
    }
   ],
   "source": [
    "query = \"\"\"\n",
    "        SELECT\n",
    "            *\n",
    "        FROM\n",
    "            headlines\n",
    "        \"\"\"\n",
    "#Save to Df\n",
    "conn = engine.connect()\n",
    "sql_headlines_df = pd.read_sql(query, con=conn)\n",
    "conn.close()\n",
    "\n",
    "sql_headlines_df.tail()"
   ]
  },
  {
   "cell_type": "markdown",
   "metadata": {},
   "source": [
    "# Updating SQL DB"
   ]
  },
  {
   "cell_type": "markdown",
   "metadata": {},
   "source": [
    "## Sources Table SQL"
   ]
  },
  {
   "cell_type": "code",
   "execution_count": 26,
   "metadata": {},
   "outputs": [
    {
     "data": {
      "text/html": [
       "<div>\n",
       "<style scoped>\n",
       "    .dataframe tbody tr th:only-of-type {\n",
       "        vertical-align: middle;\n",
       "    }\n",
       "\n",
       "    .dataframe tbody tr th {\n",
       "        vertical-align: top;\n",
       "    }\n",
       "\n",
       "    .dataframe thead th {\n",
       "        text-align: right;\n",
       "    }\n",
       "</style>\n",
       "<table border=\"1\" class=\"dataframe\">\n",
       "  <thead>\n",
       "    <tr style=\"text-align: right;\">\n",
       "      <th></th>\n",
       "      <th>source_id</th>\n",
       "      <th>source_name</th>\n",
       "      <th>last_updated</th>\n",
       "    </tr>\n",
       "  </thead>\n",
       "  <tbody>\n",
       "    <tr>\n",
       "      <th>32</th>\n",
       "      <td>33</td>\n",
       "      <td>David Harsanyi</td>\n",
       "      <td>2020-12-22 01:33:45.433547</td>\n",
       "    </tr>\n",
       "    <tr>\n",
       "      <th>33</th>\n",
       "      <td>34</td>\n",
       "      <td>Fox News (Online News)</td>\n",
       "      <td>2020-12-22 01:33:45.433547</td>\n",
       "    </tr>\n",
       "    <tr>\n",
       "      <th>34</th>\n",
       "      <td>35</td>\n",
       "      <td>National Review</td>\n",
       "      <td>2020-12-22 01:33:45.433547</td>\n",
       "    </tr>\n",
       "    <tr>\n",
       "      <th>35</th>\n",
       "      <td>36</td>\n",
       "      <td>Bizpac Review</td>\n",
       "      <td>2020-12-22 01:33:45.433547</td>\n",
       "    </tr>\n",
       "    <tr>\n",
       "      <th>36</th>\n",
       "      <td>37</td>\n",
       "      <td>Reason</td>\n",
       "      <td>2020-12-22 01:33:45.433547</td>\n",
       "    </tr>\n",
       "  </tbody>\n",
       "</table>\n",
       "</div>"
      ],
      "text/plain": [
       "    source_id             source_name               last_updated\n",
       "32         33          David Harsanyi 2020-12-22 01:33:45.433547\n",
       "33         34  Fox News (Online News) 2020-12-22 01:33:45.433547\n",
       "34         35         National Review 2020-12-22 01:33:45.433547\n",
       "35         36           Bizpac Review 2020-12-22 01:33:45.433547\n",
       "36         37                  Reason 2020-12-22 01:33:45.433547"
      ]
     },
     "execution_count": 26,
     "metadata": {},
     "output_type": "execute_result"
    }
   ],
   "source": [
    "# Pull sources Table from SQL db\n",
    "query = \"\"\"\n",
    "        SELECT\n",
    "            *\n",
    "        FROM\n",
    "            sources\n",
    "        \"\"\"\n",
    "conn = engine.connect()\n",
    "sql_sources_df = pd.read_sql(query, con=conn)\n",
    "conn.close()\n",
    "\n",
    "sql_sources_df.tail()"
   ]
  },
  {
   "cell_type": "code",
   "execution_count": 27,
   "metadata": {},
   "outputs": [
    {
     "name": "stdout",
     "output_type": "stream",
     "text": [
      "The number of sources to be added to SQL is: 0\n"
     ]
    },
    {
     "data": {
      "text/html": [
       "<div>\n",
       "<style scoped>\n",
       "    .dataframe tbody tr th:only-of-type {\n",
       "        vertical-align: middle;\n",
       "    }\n",
       "\n",
       "    .dataframe tbody tr th {\n",
       "        vertical-align: top;\n",
       "    }\n",
       "\n",
       "    .dataframe thead th {\n",
       "        text-align: right;\n",
       "    }\n",
       "</style>\n",
       "<table border=\"1\" class=\"dataframe\">\n",
       "  <thead>\n",
       "    <tr style=\"text-align: right;\">\n",
       "      <th></th>\n",
       "      <th>source_name</th>\n",
       "    </tr>\n",
       "  </thead>\n",
       "  <tbody>\n",
       "  </tbody>\n",
       "</table>\n",
       "</div>"
      ],
      "text/plain": [
       "Empty DataFrame\n",
       "Columns: [source_name]\n",
       "Index: []"
      ]
     },
     "execution_count": 27,
     "metadata": {},
     "output_type": "execute_result"
    }
   ],
   "source": [
    "# Pull current list of Source (we are avoiding duplicating the list here)\n",
    "sql_sources_list = sql_sources_df.source_name.to_list()\n",
    "\n",
    "# Create empty list for updates\n",
    "sources_update = []\n",
    "\n",
    "# Loop through current list of Sources\n",
    "for source in sources_df.source_name:\n",
    "    # If source is NOT IN current list... Append to our update list\n",
    "    if source not in sql_sources_list:\n",
    "        sources_update.append(source)\n",
    "\n",
    "source_adds = len(sources_update)\n",
    "print(f\"The number of sources to be added to SQL is: {source_adds}\")\n",
    "\n",
    "# Save updates in a new DataFrame\n",
    "sources_update_df = pd.DataFrame()\n",
    "sources_update_df['source_name'] = sources_update\n",
    "sources_update_df.head()"
   ]
  },
  {
   "cell_type": "markdown",
   "metadata": {},
   "source": [
    "#### Upload new Sources to Sources Table in SQL"
   ]
  },
  {
   "cell_type": "code",
   "execution_count": 28,
   "metadata": {},
   "outputs": [],
   "source": [
    "# Send UPDATES DataFrame to SQL\n",
    "# Any NEW sources will be added to the end of the table\n",
    "conn = engine.connect()\n",
    "sources_update_df.to_sql(\"sources\", schema=\"public\", con=conn, if_exists=\"append\", index=False, method=\"multi\")\n",
    "conn.close()"
   ]
  },
  {
   "cell_type": "markdown",
   "metadata": {},
   "source": [
    "## Category Table SQL"
   ]
  },
  {
   "cell_type": "code",
   "execution_count": 29,
   "metadata": {},
   "outputs": [
    {
     "data": {
      "text/html": [
       "<div>\n",
       "<style scoped>\n",
       "    .dataframe tbody tr th:only-of-type {\n",
       "        vertical-align: middle;\n",
       "    }\n",
       "\n",
       "    .dataframe tbody tr th {\n",
       "        vertical-align: top;\n",
       "    }\n",
       "\n",
       "    .dataframe thead th {\n",
       "        text-align: right;\n",
       "    }\n",
       "</style>\n",
       "<table border=\"1\" class=\"dataframe\">\n",
       "  <thead>\n",
       "    <tr style=\"text-align: right;\">\n",
       "      <th></th>\n",
       "      <th>category_id</th>\n",
       "      <th>category_name</th>\n",
       "      <th>last_updated</th>\n",
       "    </tr>\n",
       "  </thead>\n",
       "  <tbody>\n",
       "    <tr>\n",
       "      <th>35</th>\n",
       "      <td>36</td>\n",
       "      <td>Life and style</td>\n",
       "      <td>2020-12-22 01:33:45.701341</td>\n",
       "    </tr>\n",
       "    <tr>\n",
       "      <th>36</th>\n",
       "      <td>37</td>\n",
       "      <td>Environment</td>\n",
       "      <td>2020-12-22 01:33:45.701341</td>\n",
       "    </tr>\n",
       "    <tr>\n",
       "      <th>37</th>\n",
       "      <td>38</td>\n",
       "      <td>US news</td>\n",
       "      <td>2020-12-22 01:33:45.701341</td>\n",
       "    </tr>\n",
       "    <tr>\n",
       "      <th>38</th>\n",
       "      <td>39</td>\n",
       "      <td>News</td>\n",
       "      <td>2020-12-22 01:33:45.701341</td>\n",
       "    </tr>\n",
       "    <tr>\n",
       "      <th>39</th>\n",
       "      <td>40</td>\n",
       "      <td>Money</td>\n",
       "      <td>2020-12-22 01:33:45.701341</td>\n",
       "    </tr>\n",
       "  </tbody>\n",
       "</table>\n",
       "</div>"
      ],
      "text/plain": [
       "    category_id   category_name               last_updated\n",
       "35           36  Life and style 2020-12-22 01:33:45.701341\n",
       "36           37     Environment 2020-12-22 01:33:45.701341\n",
       "37           38         US news 2020-12-22 01:33:45.701341\n",
       "38           39            News 2020-12-22 01:33:45.701341\n",
       "39           40           Money 2020-12-22 01:33:45.701341"
      ]
     },
     "execution_count": 29,
     "metadata": {},
     "output_type": "execute_result"
    }
   ],
   "source": [
    "query = \"\"\"\n",
    "        SELECT\n",
    "            *\n",
    "        FROM\n",
    "            category\n",
    "        \"\"\"\n",
    "conn = engine.connect()\n",
    "sql_cat_df = pd.read_sql(query, con=conn)\n",
    "conn.close()\n",
    "\n",
    "sql_cat_df.tail()"
   ]
  },
  {
   "cell_type": "code",
   "execution_count": 30,
   "metadata": {},
   "outputs": [
    {
     "name": "stdout",
     "output_type": "stream",
     "text": [
      "The number of sources to be added to SQL is: 0\n"
     ]
    },
    {
     "data": {
      "text/html": [
       "<div>\n",
       "<style scoped>\n",
       "    .dataframe tbody tr th:only-of-type {\n",
       "        vertical-align: middle;\n",
       "    }\n",
       "\n",
       "    .dataframe tbody tr th {\n",
       "        vertical-align: top;\n",
       "    }\n",
       "\n",
       "    .dataframe thead th {\n",
       "        text-align: right;\n",
       "    }\n",
       "</style>\n",
       "<table border=\"1\" class=\"dataframe\">\n",
       "  <thead>\n",
       "    <tr style=\"text-align: right;\">\n",
       "      <th></th>\n",
       "      <th>category_name</th>\n",
       "    </tr>\n",
       "  </thead>\n",
       "  <tbody>\n",
       "  </tbody>\n",
       "</table>\n",
       "</div>"
      ],
      "text/plain": [
       "Empty DataFrame\n",
       "Columns: [category_name]\n",
       "Index: []"
      ]
     },
     "execution_count": 30,
     "metadata": {},
     "output_type": "execute_result"
    }
   ],
   "source": [
    "# Pull current list of Categories (we are avoiding duplicating the list here)\n",
    "sql_cat_list = sql_cat_df.category_name.to_list()\n",
    "\n",
    "# Create empty list for updates\n",
    "cats_update = []\n",
    "\n",
    "# Loop through current list of Categories\n",
    "for cat in category_df.category_name:\n",
    "    # If category is NOT IN current list... Append to our update list\n",
    "    if cat not in sql_cat_list:\n",
    "        cats_update.append(cat)\n",
    "\n",
    "cat_adds = len(cats_update)\n",
    "print(f\"The number of sources to be added to SQL is: {cat_adds}\")\n",
    "\n",
    "# Save updates in a new DataFrame\n",
    "cat_update_df = pd.DataFrame()\n",
    "cat_update_df['category_name'] = cats_update\n",
    "cat_update_df.head()"
   ]
  },
  {
   "cell_type": "markdown",
   "metadata": {},
   "source": [
    "#### Upload new categories to Category Table in SQL"
   ]
  },
  {
   "cell_type": "code",
   "execution_count": 31,
   "metadata": {},
   "outputs": [],
   "source": [
    "conn = engine.connect()\n",
    "cat_update_df.to_sql(\"category\", schema=\"public\", con=conn, if_exists=\"append\", index=False, method=\"multi\")\n",
    "conn.close()"
   ]
  },
  {
   "cell_type": "markdown",
   "metadata": {},
   "source": [
    "## Headlines Table SQL"
   ]
  },
  {
   "cell_type": "code",
   "execution_count": 32,
   "metadata": {},
   "outputs": [
    {
     "data": {
      "text/html": [
       "<div>\n",
       "<style scoped>\n",
       "    .dataframe tbody tr th:only-of-type {\n",
       "        vertical-align: middle;\n",
       "    }\n",
       "\n",
       "    .dataframe tbody tr th {\n",
       "        vertical-align: top;\n",
       "    }\n",
       "\n",
       "    .dataframe thead th {\n",
       "        text-align: right;\n",
       "    }\n",
       "</style>\n",
       "<table border=\"1\" class=\"dataframe\">\n",
       "  <thead>\n",
       "    <tr style=\"text-align: right;\">\n",
       "      <th></th>\n",
       "      <th>article_id</th>\n",
       "      <th>article_name</th>\n",
       "      <th>article_sub_header</th>\n",
       "      <th>source_id</th>\n",
       "      <th>category_id</th>\n",
       "      <th>url</th>\n",
       "      <th>last_updated</th>\n",
       "    </tr>\n",
       "  </thead>\n",
       "  <tbody>\n",
       "    <tr>\n",
       "      <th>0</th>\n",
       "      <td>1</td>\n",
       "      <td>The US is on the verge of the biggest anti-mon...</td>\n",
       "      <td>ANALYSIS If you’re a corrupt foreign official ...</td>\n",
       "      <td>1</td>\n",
       "      <td>1</td>\n",
       "      <td>https://www.allsides.com/news/2020-12-21-1231/...</td>\n",
       "      <td>2020-12-22 01:33:46.139543</td>\n",
       "    </tr>\n",
       "    <tr>\n",
       "      <th>1</th>\n",
       "      <td>2</td>\n",
       "      <td>Armed Anti-Lockdown Protesters Just Tried to S...</td>\n",
       "      <td>Right-wing protesters, including many armed wi...</td>\n",
       "      <td>2</td>\n",
       "      <td>2</td>\n",
       "      <td>https://www.allsides.com/news/2020-12-21-1209/...</td>\n",
       "      <td>2020-12-22 01:33:46.139543</td>\n",
       "    </tr>\n",
       "    <tr>\n",
       "      <th>2</th>\n",
       "      <td>3</td>\n",
       "      <td>As census deadline looms, experts warn rushing...</td>\n",
       "      <td>The fate of this year's census remains uncerta...</td>\n",
       "      <td>3</td>\n",
       "      <td>3</td>\n",
       "      <td>https://www.allsides.com/news/2020-12-21-1144/...</td>\n",
       "      <td>2020-12-22 01:33:46.139543</td>\n",
       "    </tr>\n",
       "    <tr>\n",
       "      <th>3</th>\n",
       "      <td>4</td>\n",
       "      <td>Why America can’t rely solely on individuals t...</td>\n",
       "      <td>ANALYSIS The countries that defeated the coron...</td>\n",
       "      <td>1</td>\n",
       "      <td>4</td>\n",
       "      <td>https://www.allsides.com/news/2020-12-21-0850/...</td>\n",
       "      <td>2020-12-22 01:33:46.139543</td>\n",
       "    </tr>\n",
       "    <tr>\n",
       "      <th>4</th>\n",
       "      <td>5</td>\n",
       "      <td>Trump Is Losing His Mind</td>\n",
       "      <td>OPINION The president is discussing martial la...</td>\n",
       "      <td>4</td>\n",
       "      <td>5</td>\n",
       "      <td>https://www.allsides.com/news/2020-12-21-0725/...</td>\n",
       "      <td>2020-12-22 01:33:46.139543</td>\n",
       "    </tr>\n",
       "  </tbody>\n",
       "</table>\n",
       "</div>"
      ],
      "text/plain": [
       "   article_id                                       article_name  \\\n",
       "0           1  The US is on the verge of the biggest anti-mon...   \n",
       "1           2  Armed Anti-Lockdown Protesters Just Tried to S...   \n",
       "2           3  As census deadline looms, experts warn rushing...   \n",
       "3           4  Why America can’t rely solely on individuals t...   \n",
       "4           5                           Trump Is Losing His Mind   \n",
       "\n",
       "                                  article_sub_header  source_id  category_id  \\\n",
       "0  ANALYSIS If you’re a corrupt foreign official ...          1            1   \n",
       "1  Right-wing protesters, including many armed wi...          2            2   \n",
       "2  The fate of this year's census remains uncerta...          3            3   \n",
       "3  ANALYSIS The countries that defeated the coron...          1            4   \n",
       "4  OPINION The president is discussing martial la...          4            5   \n",
       "\n",
       "                                                 url  \\\n",
       "0  https://www.allsides.com/news/2020-12-21-1231/...   \n",
       "1  https://www.allsides.com/news/2020-12-21-1209/...   \n",
       "2  https://www.allsides.com/news/2020-12-21-1144/...   \n",
       "3  https://www.allsides.com/news/2020-12-21-0850/...   \n",
       "4  https://www.allsides.com/news/2020-12-21-0725/...   \n",
       "\n",
       "                last_updated  \n",
       "0 2020-12-22 01:33:46.139543  \n",
       "1 2020-12-22 01:33:46.139543  \n",
       "2 2020-12-22 01:33:46.139543  \n",
       "3 2020-12-22 01:33:46.139543  \n",
       "4 2020-12-22 01:33:46.139543  "
      ]
     },
     "execution_count": 32,
     "metadata": {},
     "output_type": "execute_result"
    }
   ],
   "source": [
    "query = \"\"\"\n",
    "        SELECT\n",
    "            *\n",
    "        FROM\n",
    "            headlines\n",
    "        \"\"\"\n",
    "conn = engine.connect()\n",
    "sql_headlines_df = pd.read_sql(query, con=conn)\n",
    "conn.close()\n",
    "\n",
    "sql_headlines_df.head()"
   ]
  },
  {
   "cell_type": "code",
   "execution_count": 33,
   "metadata": {},
   "outputs": [
    {
     "name": "stdout",
     "output_type": "stream",
     "text": [
      "Processing headline: 1 of 85\n",
      "Processing headline: 2 of 85\n",
      "Processing headline: 3 of 85\n",
      "Processing headline: 4 of 85\n",
      "Processing headline: 5 of 85\n",
      "Processing headline: 6 of 85\n",
      "Processing headline: 7 of 85\n",
      "Processing headline: 8 of 85\n",
      "Processing headline: 9 of 85\n",
      "Processing headline: 10 of 85\n",
      "Processing headline: 11 of 85\n",
      "Processing headline: 12 of 85\n",
      "Processing headline: 13 of 85\n",
      "Processing headline: 14 of 85\n",
      "Processing headline: 15 of 85\n",
      "Processing headline: 16 of 85\n",
      "Processing headline: 17 of 85\n",
      "Processing headline: 18 of 85\n",
      "Processing headline: 19 of 85\n",
      "Processing headline: 20 of 85\n",
      "Processing headline: 21 of 85\n",
      "Processing headline: 22 of 85\n",
      "Processing headline: 23 of 85\n",
      "Processing headline: 24 of 85\n",
      "Processing headline: 25 of 85\n",
      "Processing headline: 26 of 85\n",
      "Processing headline: 27 of 85\n",
      "Processing headline: 28 of 85\n",
      "Processing headline: 29 of 85\n",
      "Processing headline: 30 of 85\n",
      "Processing headline: 31 of 85\n",
      "Processing headline: 32 of 85\n",
      "Processing headline: 33 of 85\n",
      "Processing headline: 34 of 85\n",
      "Processing headline: 35 of 85\n",
      "Processing headline: 36 of 85\n",
      "Processing headline: 37 of 85\n",
      "Processing headline: 38 of 85\n",
      "Processing headline: 39 of 85\n",
      "Processing headline: 40 of 85\n",
      "Processing headline: 41 of 85\n",
      "Processing headline: 42 of 85\n",
      "Processing headline: 43 of 85\n",
      "Processing headline: 44 of 85\n",
      "Processing headline: 45 of 85\n",
      "Processing headline: 46 of 85\n",
      "Processing headline: 47 of 85\n",
      "Processing headline: 48 of 85\n",
      "Processing headline: 49 of 85\n",
      "Processing headline: 50 of 85\n",
      "Processing headline: 51 of 85\n",
      "Processing headline: 52 of 85\n",
      "Processing headline: 53 of 85\n",
      "Processing headline: 54 of 85\n",
      "Processing headline: 55 of 85\n",
      "Processing headline: 56 of 85\n",
      "Processing headline: 57 of 85\n",
      "Processing headline: 58 of 85\n",
      "Processing headline: 59 of 85\n",
      "Processing headline: 60 of 85\n",
      "Processing headline: 61 of 85\n",
      "Processing headline: 62 of 85\n",
      "Processing headline: 63 of 85\n",
      "Processing headline: 64 of 85\n",
      "Processing headline: 65 of 85\n",
      "Processing headline: 66 of 85\n",
      "Processing headline: 67 of 85\n",
      "Processing headline: 68 of 85\n",
      "Processing headline: 69 of 85\n",
      "Processing headline: 70 of 85\n",
      "Processing headline: 71 of 85\n",
      "Processing headline: 72 of 85\n",
      "Processing headline: 73 of 85\n",
      "Processing headline: 74 of 85\n",
      "Processing headline: 75 of 85\n",
      "Processing headline: 76 of 85\n",
      "Processing headline: 77 of 85\n",
      "Processing headline: 78 of 85\n",
      "Processing headline: 79 of 85\n",
      "Processing headline: 80 of 85\n",
      "Processing headline: 81 of 85\n",
      "Processing headline: 82 of 85\n",
      "Processing headline: 83 of 85\n",
      "Processing headline: 84 of 85\n",
      "Processing headline: 85 of 85\n"
     ]
    }
   ],
   "source": [
    "sql_headlines_list = sql_headlines_df.article_name.to_list()\n",
    "\n",
    "headlines_update = []\n",
    "count = 0\n",
    "\n",
    "# Loop through current list of Headlines\n",
    "for article in headlines_df.article_name:\n",
    "    \n",
    "    #If there is a new headline that does not match our SQL list then....\n",
    "    if article not in sql_headlines_list:\n",
    "        \n",
    "        #Save that headline to an empty update list\n",
    "        headlines_update.append(article)\n",
    "        \n",
    "        #If there IS something in the update list then....\n",
    "        if len(headlines_update) > 0:\n",
    "            \n",
    "            #Find the article\n",
    "            update_df = headlines_df.loc[headlines_df.article_name == article]\n",
    "            headline_updater = update_df.article_name.values[0]\n",
    "            sub_header_update = update_df.article_sub_header.values[0]\n",
    "            source_id_update = sql_sources_df.source_id.loc[sql_sources_df['source_name'] == update_df.source_name.values[0]]\n",
    "            category_id_update = sql_cat_df.category_id.loc[sql_cat_df['category_name'] == update_df.category_name.values[0]]\n",
    "            url_updater = update_df.url.values[0]\n",
    "            \n",
    "            #Save variables off to DataFrame\n",
    "            updater_df = pd.DataFrame()\n",
    "\n",
    "            updater_df['article_name'] = headline_updater\n",
    "            updater_df['article_sub_header'] = sub_header_update\n",
    "            updater_df['source_id'] = source_id_update\n",
    "            updater_df['category_id'] = category_id_update\n",
    "            updater_df['url'] = url_updater\n",
    "            \n",
    "            #Load to SQL\n",
    "            conn = engine.connect()\n",
    "            updater_df.to_sql(\"headlines\", schema=\"public\", con=conn, \n",
    "                                          if_exists=\"append\", index=False, method=\"multi\")\n",
    "            conn.close()\n",
    "\n",
    "            print(f\"Added {article} to SQL headlines table\")\n",
    "            headlines_update = []\n",
    "    else: \n",
    "          count = count + 1\n",
    "          print(f\"Processing headline: {count} of {len(headlines_df.article_name)}\")"
   ]
  }
 ],
 "metadata": {
  "kernelspec": {
   "display_name": "Python 3",
   "language": "python",
   "name": "python3"
  },
  "language_info": {
   "codemirror_mode": {
    "name": "ipython",
    "version": 3
   },
   "file_extension": ".py",
   "mimetype": "text/x-python",
   "name": "python",
   "nbconvert_exporter": "python",
   "pygments_lexer": "ipython3",
   "version": "3.8.3"
  }
 },
 "nbformat": 4,
 "nbformat_minor": 4
}
